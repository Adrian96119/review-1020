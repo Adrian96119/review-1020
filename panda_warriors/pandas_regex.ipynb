{
 "cells": [
  {
   "cell_type": "markdown",
   "metadata": {},
   "source": [
    "# PANDA WARRIORS\n",
    "![Panda Warriors](../img/pw.jpg)"
   ]
  },
  {
   "cell_type": "markdown",
   "metadata": {},
   "source": [
    "## ```Welcome to your challenge```\n",
    "\n",
    "You and your teammates have been asigned the role of `panda warriors`, the frontline of the data wars. Brave and strong, you are always in combat to _data_ `clean` our enemies off of this world. With your magical weapon **regex**, your task is to prepare and explore the path ahead.\n",
    "\n",
    "However, fighting the battle is not the end, you must live to tell the tale."
   ]
  },
  {
   "cell_type": "markdown",
   "metadata": {},
   "source": [
    "### The song of a hero\n",
    "\n",
    "Your theme is: `pandas, regex and datacleaning`\n",
    "The task in this challenge is twofold.\n",
    "Your team must:\n",
    "- Answer the most questions you can.\n",
    "- List **at least** `5` topics of interest (important points) on the theme to guide your 20 min presentation to your fellow students.\n",
    "- Work together and help each other out.\n",
    "\n",
    "_TIP_: Remember to check your topics along the exercise and adjust them accordingly.\n",
    "\n",
    "The team captain will be responsible for putting all the answers together on this notebook and making the pull request before the deadline set with the instructors."
   ]
  },
  {
   "cell_type": "markdown",
   "metadata": {},
   "source": [
    "# IMPORTANT POINTS\n",
    "\n",
    "- \n",
    "- \n",
    "- \n",
    "- \n",
    "- "
   ]
  },
  {
   "cell_type": "code",
   "execution_count": null,
   "metadata": {},
   "outputs": [],
   "source": [
    "import pandas as pd"
   ]
  },
  {
   "cell_type": "code",
   "execution_count": null,
   "metadata": {},
   "outputs": [],
   "source": [
    "# Loading dataset\n",
    "# Run this cell\n",
    "df = pd.read_csv(\"data/animals.csv\")\n",
    "df.head()"
   ]
  },
  {
   "cell_type": "markdown",
   "metadata": {},
   "source": [
    "##### Your answer\n",
    "```\n",
    "<here>\n",
    "```"
   ]
  },
  {
   "cell_type": "markdown",
   "metadata": {},
   "source": [
    "The dataset you just loaded features part of the collection at a natural science museum. Should we check it for nulls? How?\n",
    "\n",
    "If there are, show us the rows with nulls."
   ]
  },
  {
   "cell_type": "code",
   "execution_count": null,
   "metadata": {},
   "outputs": [],
   "source": [
    "# Your answer"
   ]
  },
  {
   "cell_type": "markdown",
   "metadata": {},
   "source": [
    "Remove the unwanted rows. As we can see, there are scientific names composed of 1, 2 or 3 words. \n",
    "\n",
    "Using `regex`, can you select the following?\n",
    "- Only those whose name is composed of 3 words\n",
    "- Those whose first, second or third word begins with the letter c"
   ]
  },
  {
   "cell_type": "code",
   "execution_count": null,
   "metadata": {},
   "outputs": [],
   "source": [
    "# Your answer"
   ]
  },
  {
   "cell_type": "code",
   "execution_count": null,
   "metadata": {},
   "outputs": [],
   "source": [
    "# Your answer"
   ]
  },
  {
   "cell_type": "markdown",
   "metadata": {},
   "source": [
    "How many names are there on each category(1 word, 2 words, 3 words)?"
   ]
  },
  {
   "cell_type": "code",
   "execution_count": null,
   "metadata": {},
   "outputs": [],
   "source": [
    "# Your answer"
   ]
  },
  {
   "cell_type": "markdown",
   "metadata": {},
   "source": [
    "Unfortunately, the scientific names are not properly writen. The first word, the Genus, should be capitalized. The second and third, species and sub-species, should be lowercase. Can you please fix it, please?"
   ]
  },
  {
   "cell_type": "code",
   "execution_count": null,
   "metadata": {},
   "outputs": [],
   "source": [
    "# Your answer"
   ]
  },
  {
   "cell_type": "markdown",
   "metadata": {},
   "source": [
    "Let's see the second part of our data. Load the csv at `data/scientists.csv`."
   ]
  },
  {
   "cell_type": "code",
   "execution_count": null,
   "metadata": {},
   "outputs": [],
   "source": [
    "# Your answer"
   ]
  },
  {
   "cell_type": "markdown",
   "metadata": {},
   "source": [
    "What can you say about this dataframe? What should we do to fix it?\n",
    "\n",
    "It should probably be a little bit more like this:\n",
    "\n"
   ]
  },
  {
   "cell_type": "markdown",
   "metadata": {},
   "source": [
    "![Table](../img/table.png)"
   ]
  },
  {
   "cell_type": "code",
   "execution_count": null,
   "metadata": {},
   "outputs": [],
   "source": [
    "# Your answer"
   ]
  },
  {
   "cell_type": "markdown",
   "metadata": {},
   "source": [
    "Could you do it? How did you make it so the columns were now rows?\n",
    "\n",
    "What is the shape of the dataframe after fixing it?\n",
    "\n",
    "If you couldn't, I'll give you a hint. But you must try first! Panda Warrior honor code!"
   ]
  },
  {
   "cell_type": "code",
   "execution_count": null,
   "metadata": {},
   "outputs": [],
   "source": [
    "###############################################################################################\n",
    "# Uncomment and run for hint\n",
    "# import base64\n",
    "# base64.b64decode(\"WW91IG1pZ2h0IG5lZWQgZWl0aGVyIHRoZSBwaXZvdCBvciBtZWx0IGZ1bmN0aW9uLi4uLg==\")"
   ]
  },
  {
   "cell_type": "markdown",
   "metadata": {},
   "source": [
    "Can you join both dataframes now?\n",
    "\n",
    "What kind of join is best suited? Left, Right, Inner, Outer? Why?"
   ]
  },
  {
   "cell_type": "code",
   "execution_count": null,
   "metadata": {},
   "outputs": [],
   "source": [
    "# Your answer"
   ]
  },
  {
   "cell_type": "markdown",
   "metadata": {},
   "source": [
    "Now that both dataframes are united, can you use `apply` one more time to create a new column that contains the binomial nomenclature, the scientist and the year of the study?\n",
    "\n",
    "_Each element on the resulting column should be like:_ `Panthera pardus - Fuller Alvarado (1920)`"
   ]
  },
  {
   "cell_type": "code",
   "execution_count": null,
   "metadata": {},
   "outputs": [],
   "source": [
    "# Your answer"
   ]
  },
  {
   "cell_type": "markdown",
   "metadata": {},
   "source": [
    "How can we see the specimens studied by each scientist?"
   ]
  },
  {
   "cell_type": "code",
   "execution_count": null,
   "metadata": {},
   "outputs": [],
   "source": [
    "# Your answer"
   ]
  },
  {
   "cell_type": "markdown",
   "metadata": {},
   "source": [
    "How many specimens were studied by each scientist each year?\n",
    "\n",
    "_Hint_: Use groupings"
   ]
  },
  {
   "cell_type": "code",
   "execution_count": null,
   "metadata": {},
   "outputs": [],
   "source": [
    "# Your answer"
   ]
  },
  {
   "cell_type": "markdown",
   "metadata": {},
   "source": [
    "### Discussion topics\n",
    "\n",
    "The following are a few questions and points you should debate and think about with your teammates.\n",
    "\n",
    "- When data cleaning, how should we evaluate our strategy regarding nulls? Deleting rows, deleting columns, filling nulls?\n",
    "- May a column have elements of mixed data types?\n",
    "- May a pandas.DataFrame have more than 2 dimensions?\n",
    "- How does the axis parameter affect the apply?\n",
    "- What is the difference between join and merge? What about concat?\n",
    "- What is the difference between pivot and melt?"
   ]
  },
  {
   "cell_type": "markdown",
   "metadata": {},
   "source": [
    "#### Extra\n",
    "[Pandas Quiz!](https://www.wwf.org.uk/node/40546)"
   ]
  }
 ],
 "metadata": {
  "kernelspec": {
   "display_name": "Python3 (ih)",
   "language": "python",
   "name": "ironhack"
  },
  "language_info": {
   "codemirror_mode": {
    "name": "ipython",
    "version": 3
   },
   "file_extension": ".py",
   "mimetype": "text/x-python",
   "name": "python",
   "nbconvert_exporter": "python",
   "pygments_lexer": "ipython3",
   "version": "3.7.8"
  }
 },
 "nbformat": 4,
 "nbformat_minor": 4
}

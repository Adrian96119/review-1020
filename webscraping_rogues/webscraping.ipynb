{
 "cells": [
  {
   "cell_type": "markdown",
   "metadata": {},
   "source": [
    "# WEBSCRAPING ROGUES\n",
    "![Webscraping Rogues](../img/wr.jpg)"
   ]
  },
  {
   "cell_type": "markdown",
   "metadata": {},
   "source": [
    "## ```Welcome to your challenge```\n",
    "\n",
    "You and your teammates have been asigned the role of `webscraping rogues`, the silent shadows of the data wars. Invisible spies of the _data world_, you journey through the world wide web, disguised as a regular citzen, gathering intel. It will not always be easy, guards get suspicious and hunt you down constantly. You, however, have a very special set of skills\n",
    "\n",
    "However, fighting the battle is not the end, you must live to tell the tale."
   ]
  },
  {
   "cell_type": "markdown",
   "metadata": {},
   "source": [
    "### The song of a hero\n",
    "\n",
    "Your theme is: `html and webscraping`\n",
    "The task in this challenge is twofold.\n",
    "Your team must:\n",
    "- Answer the most questions you can.\n",
    "- List **at least** `5` topics of interest (important points) on the theme to guide your 20 min presentation to your fellow students.\n",
    "- Work together and help each other out.\n",
    "\n",
    "_TIP_: Remember to check your topics along the exercise and adjust them accordingly.\n",
    "\n",
    "The team captain will be responsible for putting all the answers together on this notebook and making the pull request before the deadline set with the instructors."
   ]
  },
  {
   "cell_type": "markdown",
   "metadata": {},
   "source": [
    "# IMPORTANT POINTS\n",
    "\n",
    "- \n",
    "- \n",
    "- \n",
    "- \n",
    "- "
   ]
  },
  {
   "cell_type": "markdown",
   "metadata": {},
   "source": [
    "## Questions\n",
    "\n",
    "- What is HTML?\n",
    "- What is web scraping?\n",
    "- What is the difference between using an API and webscraping?\n",
    "- How is data organized on HTML?\n",
    "- What are some of the roadblocks you may find when trying to webscrape?\n",
    "- What are some of the tools web developers may use to prevent webscraping?\n",
    "- What are some of the libraries we use for webscraping in python and what is the purpose of each one?"
   ]
  },
  {
   "cell_type": "markdown",
   "metadata": {},
   "source": [
    "![URL](../img/url.png)"
   ]
  },
  {
   "cell_type": "markdown",
   "metadata": {},
   "source": [
    "##### What are the different parts of a url?\n",
    "-  1. \n",
    "-  2. \n",
    "-  3. \n",
    "-  4. \n",
    "- `A.`\n",
    "- `B.`\n",
    "- `C.`"
   ]
  },
  {
   "cell_type": "markdown",
   "metadata": {},
   "source": [
    "Import the libraries."
   ]
  },
  {
   "cell_type": "code",
   "execution_count": null,
   "metadata": {},
   "outputs": [],
   "source": [
    "# Your answer"
   ]
  },
  {
   "cell_type": "markdown",
   "metadata": {},
   "source": [
    "First of all, lets start with a simple example.\n",
    "\n",
    "Try acquiring the content of [Wikipedia's robots.txt](https://en.wikipedia.org/robots.txt). The text file `robots.txt` is sometimes included by web developers to provide information to search engine crawlers. It contains information on which agents are allowed to access the page, which are forbidden, forbidden zones and sometimes even a map of the webpage. "
   ]
  },
  {
   "cell_type": "code",
   "execution_count": null,
   "metadata": {},
   "outputs": [],
   "source": [
    "# Your answer"
   ]
  },
  {
   "cell_type": "markdown",
   "metadata": {},
   "source": [
    "Good. However, that is not web scraping yet. In order to do that, instead of a simple text file, we must get data from an actual html page.\n",
    "\n",
    "For our first webscraping challenge, get the title of all the articles on [this page](https://www.dataversity.net/category/education/articles/)."
   ]
  },
  {
   "cell_type": "code",
   "execution_count": null,
   "metadata": {},
   "outputs": [],
   "source": [
    "# Your answer"
   ]
  },
  {
   "cell_type": "markdown",
   "metadata": {},
   "source": [
    "Now, try getting the titles, authors and date of the publications. You may store the results on a DataFrame."
   ]
  },
  {
   "cell_type": "code",
   "execution_count": null,
   "metadata": {},
   "outputs": [],
   "source": [
    "# Your answer"
   ]
  },
  {
   "cell_type": "markdown",
   "metadata": {},
   "source": [
    "How would you describe the step by step of scraping a web page?\n",
    "\n",
    "- \n",
    "- \n",
    "- ..."
   ]
  },
  {
   "cell_type": "markdown",
   "metadata": {},
   "source": [
    "Can you write a function that returns the number of points and the `Members Since` date of a given codewars user?\n",
    "\n",
    "For example: https://www.codewars.com/users/WHYTEWYLL"
   ]
  },
  {
   "cell_type": "code",
   "execution_count": null,
   "metadata": {},
   "outputs": [],
   "source": [
    "def codewars(user):\n",
    "    pass\n",
    "# Your answer"
   ]
  },
  {
   "cell_type": "markdown",
   "metadata": {},
   "source": [
    "Are you able to scrape the photos on [Shutterstock's search for kittens](https://www.shutterstock.com/search/kitten)?\n",
    "\n",
    "- If not, how come?\n",
    "\n",
    "How about on [Google Images search for kittens](https://www.google.com/search?q=kitten&tbm=isch)?\n",
    "\n",
    "What is the difference?\n",
    "\n",
    "You may try to download one of the photos.\n",
    "\n",
    "_HINT:_ To display images on markdown, you should use the following syntax:\n",
    "```markdown\n",
    "![alt_text](image_url)\n",
    "```"
   ]
  },
  {
   "cell_type": "code",
   "execution_count": null,
   "metadata": {},
   "outputs": [],
   "source": [
    "# Your answer"
   ]
  },
  {
   "cell_type": "markdown",
   "metadata": {},
   "source": [
    "### Discussion topics\n",
    "\n",
    "The following are a few questions and points you should debate and think about with your teammates.\n",
    "\n",
    "- Is webscraping legal?\n",
    "- Is webscraping immoral? \n",
    "- What are some fair and unfair uses of webscraping data?\n",
    "- If people go through great lengths to protect and to acquire data, how much is data really worth?"
   ]
  },
  {
   "cell_type": "markdown",
   "metadata": {},
   "source": [
    "#### Extra\n",
    "[TDS: Step by step guide](https://towardsdatascience.com/a-step-by-step-guide-to-web-scraping-in-python-5c4d9cef76e8)"
   ]
  }
 ],
 "metadata": {
  "kernelspec": {
   "display_name": "Python3 (ih)",
   "language": "python",
   "name": "ironhack"
  },
  "language_info": {
   "codemirror_mode": {
    "name": "ipython",
    "version": 3
   },
   "file_extension": ".py",
   "mimetype": "text/x-python",
   "name": "python",
   "nbconvert_exporter": "python",
   "pygments_lexer": "ipython3",
   "version": "3.7.8"
  }
 },
 "nbformat": 4,
 "nbformat_minor": 4
}
